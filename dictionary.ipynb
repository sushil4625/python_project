{
  "nbformat": 4,
  "nbformat_minor": 0,
  "metadata": {
    "colab": {
      "provenance": []
    },
    "kernelspec": {
      "name": "python3",
      "display_name": "Python 3"
    },
    "language_info": {
      "name": "python"
    }
  },
  "cells": [
    {
      "cell_type": "code",
      "execution_count": null,
      "metadata": {
        "colab": {
          "base_uri": "https://localhost:8080/"
        },
        "id": "PmQkg2q5DbT4",
        "outputId": "64bc07f6-5d29-48ad-e393-78df22654cab"
      },
      "outputs": [
        {
          "output_type": "execute_result",
          "data": {
            "text/plain": [
              "{'suraj': 32, 'sanjeev': 15, 'ravi': 10, 'rajnish': 9, 'yash': 2}"
            ]
          },
          "metadata": {},
          "execution_count": 4
        }
      ],
      "source": [
        "#1.Write a Python script to sort (ascending and descending) a dictionary by value.\n",
        "d={'ravi': 10, 'rajnish': 9, 'sanjeev': 15, 'yash': 2, 'suraj': 32}\n",
        "dict(sorted(d.items(),reverse=True,key=lambda x:x[1]))\n"
      ]
    },
    {
      "cell_type": "code",
      "source": [
        "#2 Write a Python script to add a key to a dictionary.\n",
        "d = {0:10, 1:20}\n",
        "d[2]=30\n",
        "print(d)"
      ],
      "metadata": {
        "colab": {
          "base_uri": "https://localhost:8080/"
        },
        "id": "kj5S8kL3FwmW",
        "outputId": "d8a3252e-4a73-4be2-dfe1-ec70914cded2"
      },
      "execution_count": null,
      "outputs": [
        {
          "output_type": "stream",
          "name": "stdout",
          "text": [
            "{0: 10, 1: 20, 2: 30}\n"
          ]
        }
      ]
    },
    {
      "cell_type": "code",
      "source": [
        "#2a. Write a Python script to add a key to a dictionary.\n",
        "d = {0:10, 1:20}\n",
        "d.update({2:30})\n",
        "print(d)"
      ],
      "metadata": {
        "colab": {
          "base_uri": "https://localhost:8080/"
        },
        "id": "boXEstYjGOmL",
        "outputId": "c62cb477-86c9-48a6-bb29-8c683bcb75b4"
      },
      "execution_count": null,
      "outputs": [
        {
          "output_type": "stream",
          "name": "stdout",
          "text": [
            "{0: 10, 1: 20, 2: 30}\n"
          ]
        }
      ]
    },
    {
      "cell_type": "code",
      "source": [
        "#3. Write a Python script to concatenate the following dictionaries to create a new one.\n",
        "dic1={1:10, 2:20}\n",
        "dic2={3:30, 4:40}\n",
        "dic3={5:50,6:60}\n",
        "dic4={}\n",
        "for i in (dic1,dic2,dic3):\n",
        "  dic4.update(i)\n",
        "print(dic4)"
      ],
      "metadata": {
        "colab": {
          "base_uri": "https://localhost:8080/"
        },
        "id": "Qqd7zIAvGkNi",
        "outputId": "f17f22fd-6ac4-4d8d-ceac-1bf1cbfbfd3d"
      },
      "execution_count": null,
      "outputs": [
        {
          "output_type": "stream",
          "name": "stdout",
          "text": [
            "{1: 10, 2: 20, 3: 30, 4: 40, 5: 50, 6: 60}\n"
          ]
        }
      ]
    },
    {
      "cell_type": "code",
      "source": [
        "dic1"
      ],
      "metadata": {
        "colab": {
          "base_uri": "https://localhost:8080/"
        },
        "id": "QTXD-6yeMnRt",
        "outputId": "8ce28003-e314-489e-97b4-eabd53d1cb2d"
      },
      "execution_count": null,
      "outputs": [
        {
          "output_type": "execute_result",
          "data": {
            "text/plain": [
              "{1: 10, 2: 20, 3: 30, 4: 40}"
            ]
          },
          "metadata": {},
          "execution_count": 32
        }
      ]
    },
    {
      "cell_type": "code",
      "source": [
        "#4. Write a Python script to check whether a given key already exists in a dictionary.\n",
        "d = {1: 10, 2: 20, 3: 30, 4: 40, 5: 50, 6: 60}\n",
        "int(input()) in d"
      ],
      "metadata": {
        "colab": {
          "base_uri": "https://localhost:8080/"
        },
        "id": "LGsrAkq3TLmF",
        "outputId": "f60c6c34-e7ac-4cfa-f615-ab02ed65a44c"
      },
      "execution_count": null,
      "outputs": [
        {
          "name": "stdout",
          "output_type": "stream",
          "text": [
            "2\n"
          ]
        },
        {
          "output_type": "execute_result",
          "data": {
            "text/plain": [
              "True"
            ]
          },
          "metadata": {},
          "execution_count": 36
        }
      ]
    },
    {
      "cell_type": "code",
      "source": [
        "#5. Write a Python program to iterate over dictionaries using for loops.\n",
        "d = {'x': 10, 'y': 20, 'z': 30}\n",
        "for i in d:\n",
        "  print(i,d[i])"
      ],
      "metadata": {
        "colab": {
          "base_uri": "https://localhost:8080/"
        },
        "id": "0Ph63KADTxz5",
        "outputId": "0b0bb1af-dc1d-47e4-bb88-32e03b15c31a"
      },
      "execution_count": null,
      "outputs": [
        {
          "output_type": "stream",
          "name": "stdout",
          "text": [
            "x 10\n",
            "y 20\n",
            "z 30\n"
          ]
        }
      ]
    },
    {
      "cell_type": "code",
      "source": [
        "#6 Write a Python script to generate and print a dictionary that contains a number (between 1 and n) in the form (x, x*x).\n",
        "#Sample Dictionary ( n = 5) :\n",
        "#Expected Output : {1: 1, 2: 4, 3: 9, 4: 16, 5: 25}\n",
        "d={}\n",
        "for i in range(1,6):\n",
        "  d.update({i:i**2})\n",
        "print(d)"
      ],
      "metadata": {
        "colab": {
          "base_uri": "https://localhost:8080/"
        },
        "id": "piVrUr07UNZV",
        "outputId": "4fac3de0-6e64-4d1c-d3d5-14cddd4855ae"
      },
      "execution_count": null,
      "outputs": [
        {
          "output_type": "stream",
          "name": "stdout",
          "text": [
            "{1: 1, 2: 4, 3: 9, 4: 16, 5: 25}\n"
          ]
        }
      ]
    },
    {
      "cell_type": "code",
      "source": [
        "#7. Write a Python script to print a dictionary where the keys are numbers between 1 and 15\n",
        "#(both included) and the values are the square of the keys.\n",
        "#Sample Dictionary\n",
        "#{1: 1, 2: 4, 3: 9, 4: 16, 5: 25, 6: 36, 7: 49, 8: 64, 9: 81, 10: 100, 11: 121, 12: 144, 13: 169, 14: 196, 15: 225}\n",
        "d={}\n",
        "for i in range(1,16):\n",
        "  d.update({i:i**2})\n",
        "print(d)"
      ],
      "metadata": {
        "colab": {
          "base_uri": "https://localhost:8080/"
        },
        "id": "G0Em-KYPVa_N",
        "outputId": "2fe82035-3abc-4842-8bab-32504678080e"
      },
      "execution_count": null,
      "outputs": [
        {
          "output_type": "stream",
          "name": "stdout",
          "text": [
            "{1: 1, 2: 4, 3: 9, 4: 16, 5: 25, 6: 36, 7: 49, 8: 64, 9: 81, 10: 100, 11: 121, 12: 144, 13: 169, 14: 196, 15: 225}\n"
          ]
        }
      ]
    },
    {
      "cell_type": "code",
      "source": [
        "#8. Write a Python script to merge two Python dictionaries.\n",
        "d1 = {'a': 100, 'b': 20}\n",
        "d2 = {'x': 300, 'y': 200}\n",
        "d3={}\n",
        "for i in (d1,d2):\n",
        "  d3.update(i)\n",
        "print(d3)"
      ],
      "metadata": {
        "colab": {
          "base_uri": "https://localhost:8080/"
        },
        "id": "CXyz-XfH5R8h",
        "outputId": "c147209b-8886-4c58-eb9d-5f3fbbb6cedd"
      },
      "execution_count": null,
      "outputs": [
        {
          "output_type": "stream",
          "name": "stdout",
          "text": [
            "{'a': 100, 'b': 20, 'x': 300, 'y': 200}\n"
          ]
        }
      ]
    },
    {
      "cell_type": "code",
      "source": [
        "dx = {'a': 100, 'b': 200}\n",
        "dy = {'x': 300, 'y': 200}\n",
        "dy.update(dx)"
      ],
      "metadata": {
        "id": "Bbn4gc8054bT"
      },
      "execution_count": null,
      "outputs": []
    },
    {
      "cell_type": "code",
      "source": [
        "#9. Write a Python program to iterate over dictionaries using for loops.\n",
        "d = {'Red': 1, 'Green': 2, 'Blue': 3}\n",
        "for i in d:\n",
        "  print(i,d[i])"
      ],
      "metadata": {
        "colab": {
          "base_uri": "https://localhost:8080/"
        },
        "id": "8jrHFPvx6CPq",
        "outputId": "a2e1e04d-41bd-49c2-c87c-01de1f422203"
      },
      "execution_count": null,
      "outputs": [
        {
          "output_type": "stream",
          "name": "stdout",
          "text": [
            "Red 1\n",
            "Green 2\n",
            "Blue 3\n"
          ]
        }
      ]
    },
    {
      "cell_type": "code",
      "source": [
        "#10. Write a Python program to sum all the items in a dictionary.\n",
        "m = {'data1':100,'data2':-54,'data3':247}\n",
        "s=0\n",
        "for i in m.values():\n",
        "  s=s+i\n",
        "print(s)"
      ],
      "metadata": {
        "colab": {
          "base_uri": "https://localhost:8080/"
        },
        "id": "iEYkC7Re6CWA",
        "outputId": "152bb5f7-8551-4acb-e9dd-7cf7aee88598"
      },
      "execution_count": null,
      "outputs": [
        {
          "output_type": "stream",
          "name": "stdout",
          "text": [
            "293\n"
          ]
        }
      ]
    },
    {
      "cell_type": "code",
      "source": [
        "#11. Write a Python program to multiply all the items in a dictionary.\n",
        "import numpy as np\n",
        "m = {'data1':100,'data2':-54,'data3':247}\n",
        "p=1\n",
        "for i in m.values():\n",
        "  p=p*i\n",
        "print(p)"
      ],
      "metadata": {
        "colab": {
          "base_uri": "https://localhost:8080/"
        },
        "id": "QKfYjLzq924e",
        "outputId": "99e3554b-f92b-4ec1-d5b8-b1d531e37b3f"
      },
      "execution_count": null,
      "outputs": [
        {
          "output_type": "stream",
          "name": "stdout",
          "text": [
            "-1333800\n"
          ]
        }
      ]
    },
    {
      "cell_type": "code",
      "source": [
        "#12. Write a Python program to remove a key from a dictionary.\n",
        "m = {'a':1,'b':2,'c':3,'d':4}\n",
        "m.popitem()"
      ],
      "metadata": {
        "colab": {
          "base_uri": "https://localhost:8080/"
        },
        "id": "ZlOyF2ZOsWS4",
        "outputId": "b5dddf8a-4885-496e-e9c6-cb12a010005c"
      },
      "execution_count": null,
      "outputs": [
        {
          "output_type": "execute_result",
          "data": {
            "text/plain": [
              "('d', 4)"
            ]
          },
          "metadata": {},
          "execution_count": 12
        }
      ]
    },
    {
      "cell_type": "code",
      "source": [
        "#13. Write a Python program to map two lists into a dictionary.\n",
        "keys = ['red', 'green', 'blue']\n",
        "values = ['#FF0000','#008000', '#0000FF']\n",
        "dict(zip(keys,values))"
      ],
      "metadata": {
        "colab": {
          "base_uri": "https://localhost:8080/"
        },
        "id": "JajDwNl3szat",
        "outputId": "3fad2bc0-02a1-4699-ecd3-cf0d90ba4e9f"
      },
      "execution_count": null,
      "outputs": [
        {
          "output_type": "execute_result",
          "data": {
            "text/plain": [
              "{'red': '#FF0000', 'green': '#008000', 'blue': '#0000FF'}"
            ]
          },
          "metadata": {},
          "execution_count": 15
        }
      ]
    },
    {
      "cell_type": "code",
      "source": [
        "#14. Write a Python program to sort a given dictionary by key.\n",
        "color_dict = {'red':'#FF0000',\n",
        "          'green':'#008000',\n",
        "          'black':'#000000',\n",
        "          'white':'#FFFFFF'}\n",
        "dict(sorted(color_dict.items(),key=lambda x:x[0]))"
      ],
      "metadata": {
        "colab": {
          "base_uri": "https://localhost:8080/"
        },
        "id": "5TUhcdDWxGZ2",
        "outputId": "4642ceb5-8f67-4cd5-9c1f-409e7ba0a73a"
      },
      "execution_count": null,
      "outputs": [
        {
          "output_type": "execute_result",
          "data": {
            "text/plain": [
              "{'black': '#000000', 'green': '#008000', 'red': '#FF0000', 'white': '#FFFFFF'}"
            ]
          },
          "metadata": {},
          "execution_count": 19
        }
      ]
    },
    {
      "cell_type": "code",
      "source": [
        "#15. Write a Python program to get the maximum and minimum values of a dictionary.\n",
        "my_dict = {'x':500, 'y':5874, 'z': 560}\n",
        "print(max(my_dict.items(),key=lambda x:x[1]))\n",
        "print(min(my_dict.items(),key=lambda x:x[0]))\n"
      ],
      "metadata": {
        "colab": {
          "base_uri": "https://localhost:8080/"
        },
        "id": "_92AzRsLxz71",
        "outputId": "7ded43a1-fcc4-47ef-83c4-2bf3a5bdd92a"
      },
      "execution_count": null,
      "outputs": [
        {
          "output_type": "stream",
          "name": "stdout",
          "text": [
            "('y', 5874)\n",
            "('x', 500)\n"
          ]
        }
      ]
    },
    {
      "cell_type": "code",
      "source": [
        "#16. Write a Python program to get a dictionary from an object's fields.\n",
        "class new:\n",
        "  def __init__(self):\n",
        "    self.x=\"sushil\"\n",
        "    self.y=32\n",
        "    self.roll=600\n"
      ],
      "metadata": {
        "id": "Bor_NbLEy6hN"
      },
      "execution_count": null,
      "outputs": []
    },
    {
      "cell_type": "code",
      "source": [
        "t=new()\n",
        "t.__dict__"
      ],
      "metadata": {
        "colab": {
          "base_uri": "https://localhost:8080/"
        },
        "id": "VS0U963tTniY",
        "outputId": "de557ca5-6ad7-41be-9724-27d037f892e4"
      },
      "execution_count": null,
      "outputs": [
        {
          "output_type": "execute_result",
          "data": {
            "text/plain": [
              "{'x': 'sushil', 'y': 32, 'roll': 600}"
            ]
          },
          "metadata": {},
          "execution_count": 2
        }
      ]
    },
    {
      "cell_type": "code",
      "source": [
        "#17. Write a Python program to remove duplicates from the dictionary.\n",
        "st = {'id1':\n",
        "   {'name': ['Sara'],\n",
        "    'class': ['V'],\n",
        "    'subject_integration': ['english, math, science']\n",
        "   },\n",
        " 'id2':\n",
        "  {'name': ['David'],\n",
        "    'class': ['V'],\n",
        "    'subject_integration': ['english, math, science']\n",
        "   },\n",
        " 'id3':\n",
        "    {'name': ['Sara'],\n",
        "    'class': ['V'],\n",
        "    'subject_integration': ['english, math, science']\n",
        "   },\n",
        " 'id4':\n",
        "   {'name': ['Surya'],\n",
        "    'class': ['V'],\n",
        "    'subject_integration': ['english, math, science']\n",
        "   },\n",
        "}\n",
        "d={}\n",
        "for i,j in st.items():\n",
        "  if j not in d.values():\n",
        "    d.update({i:j})\n",
        "print(d)\n"
      ],
      "metadata": {
        "colab": {
          "base_uri": "https://localhost:8080/"
        },
        "id": "fLHC3kCYVYw0",
        "outputId": "b28f43ac-15a0-4852-d432-d84760694e59"
      },
      "execution_count": null,
      "outputs": [
        {
          "output_type": "stream",
          "name": "stdout",
          "text": [
            "{'id1': {'name': ['Sara'], 'class': ['V'], 'subject_integration': ['english, math, science']}, 'id2': {'name': ['David'], 'class': ['V'], 'subject_integration': ['english, math, science']}, 'id4': {'name': ['Surya'], 'class': ['V'], 'subject_integration': ['english, math, science']}}\n"
          ]
        }
      ]
    },
    {
      "cell_type": "code",
      "source": [
        "#18. Write a Python program to check if a dictionary is empty or not.\n",
        "d={}\n",
        "bool(d)"
      ],
      "metadata": {
        "colab": {
          "base_uri": "https://localhost:8080/"
        },
        "id": "EQGohij4Wc30",
        "outputId": "0af4d7fe-a7c3-4932-9499-496997c8c8c6"
      },
      "execution_count": null,
      "outputs": [
        {
          "output_type": "execute_result",
          "data": {
            "text/plain": [
              "False"
            ]
          },
          "metadata": {},
          "execution_count": 7
        }
      ]
    },
    {
      "cell_type": "code",
      "source": [
        "#19. Write a Python program to combine two dictionary by adding values for common keys.\n",
        "d1 = {'a': 100, 'b': 200, 'c':300}\n",
        "d2 = {'a': 300, 'b': 200, 'd':400}\n",
        "d={}\n",
        "for i,j in d1.items():\n",
        "  for x,y in d2.items():\n",
        "    if i==x:\n",
        "      d[i]=j+y\n",
        "    else:\n",
        "      d[x]=y\n",
        "      d[i]=j\n",
        "print(d)\n"
      ],
      "metadata": {
        "colab": {
          "base_uri": "https://localhost:8080/"
        },
        "id": "h_8_ijq7BL7I",
        "outputId": "299a2f9b-9ee1-4d79-d4db-a17b5c312832"
      },
      "execution_count": null,
      "outputs": [
        {
          "output_type": "stream",
          "name": "stdout",
          "text": [
            "{'a': 300, 'b': 200, 'd': 400, 'c': 300}\n"
          ]
        }
      ]
    },
    {
      "cell_type": "code",
      "source": [
        "#20. Write a Python program to print all distinct values in a dictionary.\n",
        "S=[{\"V\":\"S001\"}, {\"V\": \"S002\"}, {\"VI\": \"S001\"}, {\"VI\": \"S005\"}, {\"VII\":\"S005\"}, {\"V\":\"S009\"},{\"VIII\":\"S007\"}]\n",
        "l=[]\n",
        "for i in S:\n",
        "  for j in i.values():\n",
        "    if j not in l:\n",
        "      l.append(j)\n",
        "l\n"
      ],
      "metadata": {
        "colab": {
          "base_uri": "https://localhost:8080/"
        },
        "id": "OWVRmBDBbR8u",
        "outputId": "e9b07767-d0e6-4312-ba25-59bdd6371aae"
      },
      "execution_count": null,
      "outputs": [
        {
          "output_type": "execute_result",
          "data": {
            "text/plain": [
              "['S001', 'S002', 'S005', 'S009', 'S007']"
            ]
          },
          "metadata": {},
          "execution_count": 46
        }
      ]
    },
    {
      "cell_type": "code",
      "source": [
        "#21. Write a Python program to create and display all combinations of letters, selecting each letter from a different key in a dictionary.\n",
        "S={'1':['a','b'], '2':['c','d']}\n",
        "\n",
        "for i in S['1']:\n",
        "  for j in S['2']:\n",
        "    print(i+j)\n",
        "\n",
        "\n"
      ],
      "metadata": {
        "colab": {
          "base_uri": "https://localhost:8080/"
        },
        "id": "-VniiLtIq06_",
        "outputId": "faabcd17-1599-4016-b787-96eca4bb2364"
      },
      "execution_count": null,
      "outputs": [
        {
          "output_type": "stream",
          "name": "stdout",
          "text": [
            "ac\n",
            "ad\n",
            "bc\n",
            "bd\n"
          ]
        }
      ]
    },
    {
      "cell_type": "code",
      "source": [
        "#22. Write a Python program to find the highest 3 values of corresponding keys in a dictionary.\n",
        "m = {'a':500, 'b':5874, 'c': 560,'d':400, 'e':5874, 'f': 20}\n",
        "dict(sorted(m.items(),reverse=True,key=lambda x:x[1])[:3]).keys()"
      ],
      "metadata": {
        "colab": {
          "base_uri": "https://localhost:8080/"
        },
        "id": "Z5-UK45DuLpE",
        "outputId": "f77d725c-bff0-40c8-f80c-faedb0c868b8"
      },
      "execution_count": null,
      "outputs": [
        {
          "output_type": "execute_result",
          "data": {
            "text/plain": [
              "dict_keys(['b', 'e', 'c'])"
            ]
          },
          "metadata": {},
          "execution_count": 61
        }
      ]
    },
    {
      "cell_type": "code",
      "source": [
        "#24. Write a Python program to create a dictionary from a string.\n",
        "#Note: Track the count of the letters from the string.\n",
        "s='w3resource'\n",
        "import collections as c\n",
        "c.Counter(s)"
      ],
      "metadata": {
        "colab": {
          "base_uri": "https://localhost:8080/"
        },
        "id": "SaEAMvY2T76_",
        "outputId": "e04d67c2-51c7-486f-f8c5-ed6be757d81b"
      },
      "execution_count": null,
      "outputs": [
        {
          "output_type": "execute_result",
          "data": {
            "text/plain": [
              "Counter({'w': 1, '3': 1, 'r': 2, 'e': 2, 's': 1, 'o': 1, 'u': 1, 'c': 1})"
            ]
          },
          "metadata": {},
          "execution_count": 21
        }
      ]
    },
    {
      "cell_type": "code",
      "source": [
        "#25 Write a Python program to print a dictionary in table format.\n",
        "m={'C1':[1,2,3],'C2':[5,6,7],'C3':[9,10,11]}\n",
        "import pandas as pd\n",
        "pd.DataFrame(m)"
      ],
      "metadata": {
        "colab": {
          "base_uri": "https://localhost:8080/",
          "height": 143
        },
        "id": "nRIL4JLvUkTc",
        "outputId": "c931d242-deeb-499c-f1d8-41c4f17eb457"
      },
      "execution_count": null,
      "outputs": [
        {
          "output_type": "execute_result",
          "data": {
            "text/plain": [
              "   C1  C2  C3\n",
              "0   1   5   9\n",
              "1   2   6  10\n",
              "2   3   7  11"
            ],
            "text/html": [
              "\n",
              "\n",
              "  <div id=\"df-28db2c9e-a815-4dfe-82ea-779d0c64899b\">\n",
              "    <div class=\"colab-df-container\">\n",
              "      <div>\n",
              "<style scoped>\n",
              "    .dataframe tbody tr th:only-of-type {\n",
              "        vertical-align: middle;\n",
              "    }\n",
              "\n",
              "    .dataframe tbody tr th {\n",
              "        vertical-align: top;\n",
              "    }\n",
              "\n",
              "    .dataframe thead th {\n",
              "        text-align: right;\n",
              "    }\n",
              "</style>\n",
              "<table border=\"1\" class=\"dataframe\">\n",
              "  <thead>\n",
              "    <tr style=\"text-align: right;\">\n",
              "      <th></th>\n",
              "      <th>C1</th>\n",
              "      <th>C2</th>\n",
              "      <th>C3</th>\n",
              "    </tr>\n",
              "  </thead>\n",
              "  <tbody>\n",
              "    <tr>\n",
              "      <th>0</th>\n",
              "      <td>1</td>\n",
              "      <td>5</td>\n",
              "      <td>9</td>\n",
              "    </tr>\n",
              "    <tr>\n",
              "      <th>1</th>\n",
              "      <td>2</td>\n",
              "      <td>6</td>\n",
              "      <td>10</td>\n",
              "    </tr>\n",
              "    <tr>\n",
              "      <th>2</th>\n",
              "      <td>3</td>\n",
              "      <td>7</td>\n",
              "      <td>11</td>\n",
              "    </tr>\n",
              "  </tbody>\n",
              "</table>\n",
              "</div>\n",
              "      <button class=\"colab-df-convert\" onclick=\"convertToInteractive('df-28db2c9e-a815-4dfe-82ea-779d0c64899b')\"\n",
              "              title=\"Convert this dataframe to an interactive table.\"\n",
              "              style=\"display:none;\">\n",
              "\n",
              "  <svg xmlns=\"http://www.w3.org/2000/svg\" height=\"24px\"viewBox=\"0 0 24 24\"\n",
              "       width=\"24px\">\n",
              "    <path d=\"M0 0h24v24H0V0z\" fill=\"none\"/>\n",
              "    <path d=\"M18.56 5.44l.94 2.06.94-2.06 2.06-.94-2.06-.94-.94-2.06-.94 2.06-2.06.94zm-11 1L8.5 8.5l.94-2.06 2.06-.94-2.06-.94L8.5 2.5l-.94 2.06-2.06.94zm10 10l.94 2.06.94-2.06 2.06-.94-2.06-.94-.94-2.06-.94 2.06-2.06.94z\"/><path d=\"M17.41 7.96l-1.37-1.37c-.4-.4-.92-.59-1.43-.59-.52 0-1.04.2-1.43.59L10.3 9.45l-7.72 7.72c-.78.78-.78 2.05 0 2.83L4 21.41c.39.39.9.59 1.41.59.51 0 1.02-.2 1.41-.59l7.78-7.78 2.81-2.81c.8-.78.8-2.07 0-2.86zM5.41 20L4 18.59l7.72-7.72 1.47 1.35L5.41 20z\"/>\n",
              "  </svg>\n",
              "      </button>\n",
              "\n",
              "\n",
              "\n",
              "    <div id=\"df-36ed6695-cc56-4a93-9148-a18c451af882\">\n",
              "      <button class=\"colab-df-quickchart\" onclick=\"quickchart('df-36ed6695-cc56-4a93-9148-a18c451af882')\"\n",
              "              title=\"Suggest charts.\"\n",
              "              style=\"display:none;\">\n",
              "\n",
              "<svg xmlns=\"http://www.w3.org/2000/svg\" height=\"24px\"viewBox=\"0 0 24 24\"\n",
              "     width=\"24px\">\n",
              "    <g>\n",
              "        <path d=\"M19 3H5c-1.1 0-2 .9-2 2v14c0 1.1.9 2 2 2h14c1.1 0 2-.9 2-2V5c0-1.1-.9-2-2-2zM9 17H7v-7h2v7zm4 0h-2V7h2v10zm4 0h-2v-4h2v4z\"/>\n",
              "    </g>\n",
              "</svg>\n",
              "      </button>\n",
              "    </div>\n",
              "\n",
              "<style>\n",
              "  .colab-df-quickchart {\n",
              "    background-color: #E8F0FE;\n",
              "    border: none;\n",
              "    border-radius: 50%;\n",
              "    cursor: pointer;\n",
              "    display: none;\n",
              "    fill: #1967D2;\n",
              "    height: 32px;\n",
              "    padding: 0 0 0 0;\n",
              "    width: 32px;\n",
              "  }\n",
              "\n",
              "  .colab-df-quickchart:hover {\n",
              "    background-color: #E2EBFA;\n",
              "    box-shadow: 0px 1px 2px rgba(60, 64, 67, 0.3), 0px 1px 3px 1px rgba(60, 64, 67, 0.15);\n",
              "    fill: #174EA6;\n",
              "  }\n",
              "\n",
              "  [theme=dark] .colab-df-quickchart {\n",
              "    background-color: #3B4455;\n",
              "    fill: #D2E3FC;\n",
              "  }\n",
              "\n",
              "  [theme=dark] .colab-df-quickchart:hover {\n",
              "    background-color: #434B5C;\n",
              "    box-shadow: 0px 1px 3px 1px rgba(0, 0, 0, 0.15);\n",
              "    filter: drop-shadow(0px 1px 2px rgba(0, 0, 0, 0.3));\n",
              "    fill: #FFFFFF;\n",
              "  }\n",
              "</style>\n",
              "\n",
              "    <script>\n",
              "      async function quickchart(key) {\n",
              "        const containerElement = document.querySelector('#' + key);\n",
              "        const charts = await google.colab.kernel.invokeFunction(\n",
              "            'suggestCharts', [key], {});\n",
              "      }\n",
              "    </script>\n",
              "\n",
              "      <script>\n",
              "\n",
              "function displayQuickchartButton(domScope) {\n",
              "  let quickchartButtonEl =\n",
              "    domScope.querySelector('#df-36ed6695-cc56-4a93-9148-a18c451af882 button.colab-df-quickchart');\n",
              "  quickchartButtonEl.style.display =\n",
              "    google.colab.kernel.accessAllowed ? 'block' : 'none';\n",
              "}\n",
              "\n",
              "        displayQuickchartButton(document);\n",
              "      </script>\n",
              "      <style>\n",
              "    .colab-df-container {\n",
              "      display:flex;\n",
              "      flex-wrap:wrap;\n",
              "      gap: 12px;\n",
              "    }\n",
              "\n",
              "    .colab-df-convert {\n",
              "      background-color: #E8F0FE;\n",
              "      border: none;\n",
              "      border-radius: 50%;\n",
              "      cursor: pointer;\n",
              "      display: none;\n",
              "      fill: #1967D2;\n",
              "      height: 32px;\n",
              "      padding: 0 0 0 0;\n",
              "      width: 32px;\n",
              "    }\n",
              "\n",
              "    .colab-df-convert:hover {\n",
              "      background-color: #E2EBFA;\n",
              "      box-shadow: 0px 1px 2px rgba(60, 64, 67, 0.3), 0px 1px 3px 1px rgba(60, 64, 67, 0.15);\n",
              "      fill: #174EA6;\n",
              "    }\n",
              "\n",
              "    [theme=dark] .colab-df-convert {\n",
              "      background-color: #3B4455;\n",
              "      fill: #D2E3FC;\n",
              "    }\n",
              "\n",
              "    [theme=dark] .colab-df-convert:hover {\n",
              "      background-color: #434B5C;\n",
              "      box-shadow: 0px 1px 3px 1px rgba(0, 0, 0, 0.15);\n",
              "      filter: drop-shadow(0px 1px 2px rgba(0, 0, 0, 0.3));\n",
              "      fill: #FFFFFF;\n",
              "    }\n",
              "  </style>\n",
              "\n",
              "      <script>\n",
              "        const buttonEl =\n",
              "          document.querySelector('#df-28db2c9e-a815-4dfe-82ea-779d0c64899b button.colab-df-convert');\n",
              "        buttonEl.style.display =\n",
              "          google.colab.kernel.accessAllowed ? 'block' : 'none';\n",
              "\n",
              "        async function convertToInteractive(key) {\n",
              "          const element = document.querySelector('#df-28db2c9e-a815-4dfe-82ea-779d0c64899b');\n",
              "          const dataTable =\n",
              "            await google.colab.kernel.invokeFunction('convertToInteractive',\n",
              "                                                     [key], {});\n",
              "          if (!dataTable) return;\n",
              "\n",
              "          const docLinkHtml = 'Like what you see? Visit the ' +\n",
              "            '<a target=\"_blank\" href=https://colab.research.google.com/notebooks/data_table.ipynb>data table notebook</a>'\n",
              "            + ' to learn more about interactive tables.';\n",
              "          element.innerHTML = '';\n",
              "          dataTable['output_type'] = 'display_data';\n",
              "          await google.colab.output.renderOutput(dataTable, element);\n",
              "          const docLink = document.createElement('div');\n",
              "          docLink.innerHTML = docLinkHtml;\n",
              "          element.appendChild(docLink);\n",
              "        }\n",
              "      </script>\n",
              "    </div>\n",
              "  </div>\n"
            ]
          },
          "metadata": {},
          "execution_count": 22
        }
      ]
    },
    {
      "cell_type": "code",
      "source": [
        "#27. Write a Python program to convert a list into a nested dictionary of keys.\n",
        "n=[1, 2, 3, 4]\n",
        "k=d={}\n",
        "for i in n:\n",
        "  d[i]={}\n",
        "  d=d[i]\n",
        "print(k)\n"
      ],
      "metadata": {
        "colab": {
          "base_uri": "https://localhost:8080/"
        },
        "id": "UukYojqKViCN",
        "outputId": "e35d13c4-3294-46f0-9d46-460607551b00"
      },
      "execution_count": null,
      "outputs": [
        {
          "output_type": "stream",
          "name": "stdout",
          "text": [
            "{1: {2: {3: {4: {}}}}}\n"
          ]
        }
      ]
    },
    {
      "cell_type": "code",
      "source": [
        "#28. Write a Python program to sort a list alphabetically in a dictionary.\n",
        "num = {'n1': [2, 3, 1], 'n2': [5, 1, 2], 'n3': [3, 2, 4]}\n",
        "d={}\n",
        "for i in num:\n",
        "  d[i]=sorted(num[i])\n",
        "d"
      ],
      "metadata": {
        "colab": {
          "base_uri": "https://localhost:8080/"
        },
        "id": "4NVgym5gdaQH",
        "outputId": "6ead6fb3-9f0f-4447-d187-1b71b3cf2d17"
      },
      "execution_count": null,
      "outputs": [
        {
          "output_type": "execute_result",
          "data": {
            "text/plain": [
              "{'n1': [1, 2, 3], 'n2': [1, 2, 5], 'n3': [2, 3, 4]}"
            ]
          },
          "metadata": {},
          "execution_count": 27
        }
      ]
    },
    {
      "cell_type": "code",
      "source": [
        "#29. Write a Python program to remove spaces from dictionary keys.\n",
        "s= {'S  001': ['Math', 'Science'], 'S    002': ['Math', 'English']}\n",
        "d={}\n",
        "for i in s:\n",
        "  d[\"\".join(i.split())]=s[i]\n",
        "print(d)"
      ],
      "metadata": {
        "id": "3B27zDDnfMcK",
        "colab": {
          "base_uri": "https://localhost:8080/"
        },
        "outputId": "0549db57-e21d-4229-b6de-2b8be736cf6c"
      },
      "execution_count": null,
      "outputs": [
        {
          "output_type": "stream",
          "name": "stdout",
          "text": [
            "{'S001': ['Math', 'Science'], 'S002': ['Math', 'English']}\n"
          ]
        }
      ]
    },
    {
      "cell_type": "code",
      "source": [
        "#30. Write a Python program to get the top three items in a shop\n",
        "S={'item1': 45.50, 'item2':35, 'item3': 41.30, 'item4':55, 'item5': 24}\n",
        "for i,j in sorted(S.items(),reverse=True,key=lambda x:x[1])[:3]:\n",
        "  print(i,j)\n"
      ],
      "metadata": {
        "colab": {
          "base_uri": "https://localhost:8080/"
        },
        "id": "c1FXP59egGYp",
        "outputId": "d96ecde1-1a77-40ae-ab7b-512499081b1e"
      },
      "execution_count": null,
      "outputs": [
        {
          "output_type": "stream",
          "name": "stdout",
          "text": [
            "item4 55\n",
            "item1 45.5\n",
            "item3 41.3\n"
          ]
        }
      ]
    },
    {
      "cell_type": "code",
      "source": [
        "#31.Write a Python program to get the key, value and item in a dictionary.\n",
        "d= {1: 10, 2: 20, 3: 30, 4: 40, 5: 50, 6: 60}\n",
        "for i,j in d.items():\n",
        "  print(i,j)"
      ],
      "metadata": {
        "colab": {
          "base_uri": "https://localhost:8080/"
        },
        "id": "QF90-1qQkrWF",
        "outputId": "edcd39b4-7e7e-4001-bba2-0c3564e67665"
      },
      "execution_count": null,
      "outputs": [
        {
          "output_type": "stream",
          "name": "stdout",
          "text": [
            "1 10\n",
            "2 20\n",
            "3 30\n",
            "4 40\n",
            "5 50\n",
            "6 60\n"
          ]
        }
      ]
    },
    {
      "cell_type": "code",
      "source": [
        "#32. Write a Python program to print a dictionary line by line\n",
        "s = {'Aex':{'class':'V',\n",
        "        'rolld_id':2},\n",
        "        'Puja':{'class':'V',\n",
        "        'roll_id':3}}\n",
        "for i in s:\n",
        "  print(i)\n",
        "  for j,k in s[i].items():\n",
        "    print(j,k)\n"
      ],
      "metadata": {
        "colab": {
          "base_uri": "https://localhost:8080/"
        },
        "id": "ffTUEUPiphBw",
        "outputId": "7cce77f3-b3b8-40e0-f623-6589855f99e2"
      },
      "execution_count": null,
      "outputs": [
        {
          "output_type": "stream",
          "name": "stdout",
          "text": [
            "Aex\n",
            "class V\n",
            "rolld_id 2\n",
            "Puja\n",
            "class V\n",
            "roll_id 3\n"
          ]
        }
      ]
    }
  ]
}